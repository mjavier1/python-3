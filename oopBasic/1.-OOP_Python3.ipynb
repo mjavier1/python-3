{
  "nbformat": 4,
  "nbformat_minor": 0,
  "metadata": {
    "colab": {
      "name": "OOP_Python3.ipynb",
      "provenance": []
    },
    "kernelspec": {
      "name": "python3",
      "display_name": "Python 3"
    }
  },
  "cells": [
    {
      "cell_type": "code",
      "metadata": {
        "id": "AycoG0NF9xwf",
        "colab_type": "code",
        "colab": {}
      },
      "source": [
        "class WashingMachine:\n",
        "  def __init__(self,brandName, modelName, serialNumber, capacity):\n",
        "    self.__brandName = brandName\n",
        "    self.__modelName = modelName\n",
        "    self.__serialNumber = serialNumber\n",
        "    self.__capacity = capacity\n",
        "\n",
        "  @property\n",
        "  def capacity(self):\n",
        "    return self.__capacity\n",
        "    \n",
        "  @capacity.setter\n",
        "  def capacity(self, value):\n",
        "    self.__capacity = value\n",
        "    \n",
        "  def __del__(self):\n",
        "    pass\n",
        "\n",
        "  def acceptClothes(self):\n",
        "    pass\n",
        "  def acceptDetergent(self):\n",
        "    pass\n",
        "  def turnOn(self):\n",
        "    pass\n",
        "  def turnOff(self):\n",
        "    pass\n",
        "  \n",
        "  def displayData(self):\n",
        "    print(\"\\nBrandName : \",self.__brandName)\n",
        "    print(\"ModelName : \", self.__modelName)\n",
        "    print(\"SerialNumber : \", self.__serialNumber)\n",
        "    print(\"Capacity : \", self.__capacity)"
      ],
      "execution_count": null,
      "outputs": []
    },
    {
      "cell_type": "code",
      "metadata": {
        "id": "D-lhGUleBK9r",
        "colab_type": "code",
        "colab": {}
      },
      "source": [
        "lavadora1 = WashingMachine(\"LG\",\"X\",\"123\",5)"
      ],
      "execution_count": null,
      "outputs": []
    },
    {
      "cell_type": "code",
      "metadata": {
        "id": "zUW3e3pWBfKz",
        "colab_type": "code",
        "colab": {
          "base_uri": "https://localhost:8080/",
          "height": 100
        },
        "outputId": "7186d8cc-0fed-4310-fbb0-758e55a7ce92"
      },
      "source": [
        "lavadora1.displayData()"
      ],
      "execution_count": null,
      "outputs": [
        {
          "output_type": "stream",
          "text": [
            "\n",
            "BrandName :  LG\n",
            "ModelName :  X\n",
            "SerialNumber :  123\n",
            "Capacity :  5\n"
          ],
          "name": "stdout"
        }
      ]
    },
    {
      "cell_type": "code",
      "metadata": {
        "id": "E5IG804dF_bR",
        "colab_type": "code",
        "colab": {}
      },
      "source": [
        "lavadora1.capacity"
      ],
      "execution_count": null,
      "outputs": []
    },
    {
      "cell_type": "code",
      "metadata": {
        "id": "n1Ujv8_IGC5Z",
        "colab_type": "code",
        "colab": {}
      },
      "source": [
        "lavadora1.capacity = 20"
      ],
      "execution_count": null,
      "outputs": []
    },
    {
      "cell_type": "code",
      "metadata": {
        "id": "CiztwSl6GH4o",
        "colab_type": "code",
        "colab": {}
      },
      "source": [
        "lavadora1.capacity"
      ],
      "execution_count": null,
      "outputs": []
    }
  ]
}