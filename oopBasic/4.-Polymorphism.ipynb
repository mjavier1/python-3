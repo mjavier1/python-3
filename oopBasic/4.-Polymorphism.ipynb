{
  "nbformat": 4,
  "nbformat_minor": 0,
  "metadata": {
    "colab": {
      "name": "Polymorphism.ipynb",
      "provenance": []
    },
    "kernelspec": {
      "name": "python3",
      "display_name": "Python 3"
    }
  },
  "cells": [
    {
      "cell_type": "code",
      "metadata": {
        "id": "y4EIKpvpRJnM",
        "colab_type": "code",
        "colab": {}
      },
      "source": [
        "from abc import ABC, abstractmethod"
      ],
      "execution_count": null,
      "outputs": []
    },
    {
      "cell_type": "code",
      "metadata": {
        "id": "tpfNVaZ9Rh3H",
        "colab_type": "code",
        "colab": {}
      },
      "source": [
        "class Animal(ABC):\n",
        "  def __init__(self, name):\n",
        "    self.name = name\n",
        "\n",
        "  @abstractmethod\n",
        "  def talk(self):\n",
        "    pass"
      ],
      "execution_count": null,
      "outputs": []
    },
    {
      "cell_type": "code",
      "metadata": {
        "id": "07wf6-jKR2Hm",
        "colab_type": "code",
        "colab": {}
      },
      "source": [
        "class Dog(Animal):\n",
        "  def talk(self):\n",
        "    return f\"Bow...Bow...\""
      ],
      "execution_count": null,
      "outputs": []
    },
    {
      "cell_type": "code",
      "metadata": {
        "id": "EU8hKkdZSD5n",
        "colab_type": "code",
        "colab": {}
      },
      "source": [
        "class Cat(Animal):\n",
        "  def talk(self):\n",
        "    return f\"Meow...Meow...\""
      ],
      "execution_count": null,
      "outputs": []
    },
    {
      "cell_type": "code",
      "metadata": {
        "id": "Cqd_5FzsSS73",
        "colab_type": "code",
        "colab": {}
      },
      "source": [
        "class Duck(Animal):\n",
        "  def talk(self):\n",
        "    return f\"Quack...Quack...\""
      ],
      "execution_count": null,
      "outputs": []
    },
    {
      "cell_type": "code",
      "metadata": {
        "id": "Pzq7-MpkSd_5",
        "colab_type": "code",
        "colab": {}
      },
      "source": [
        "class Human(Animal):\n",
        "  def talk(self):\n",
        "    return f\"I can talk more ...\""
      ],
      "execution_count": null,
      "outputs": []
    },
    {
      "cell_type": "code",
      "metadata": {
        "id": "8HJiyQ-eSqnn",
        "colab_type": "code",
        "colab": {}
      },
      "source": [
        "object_list = [ Dog(\"Dog\"), Cat(\"Cat\"), Duck(\"Duck\"), Human(\"Human\")]"
      ],
      "execution_count": null,
      "outputs": []
    },
    {
      "cell_type": "code",
      "metadata": {
        "id": "nfYETNMaS7Kn",
        "colab_type": "code",
        "colab": {
          "base_uri": "https://localhost:8080/",
          "height": 228
        },
        "outputId": "65665960-2d02-4be2-d611-a42cbcce9fc7"
      },
      "source": [
        "for obj in object_list:\n",
        "  print(\"Name : %s\" % obj.name)\n",
        "  print(\"Talk : %s\" % obj.talk())\n",
        "  print(\"-\"*30)"
      ],
      "execution_count": null,
      "outputs": [
        {
          "output_type": "stream",
          "text": [
            "Name : Dog\n",
            "Talk : Bow...Bow...\n",
            "------------------------------\n",
            "Name : Cat\n",
            "Talk : Meow...Meow...\n",
            "------------------------------\n",
            "Name : Duck\n",
            "Talk : Quack...Quack...\n",
            "------------------------------\n",
            "Name : Human\n",
            "Talk : I can talk more ...\n",
            "------------------------------\n"
          ],
          "name": "stdout"
        }
      ]
    }
  ]
}