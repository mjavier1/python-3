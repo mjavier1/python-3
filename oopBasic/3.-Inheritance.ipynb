{
  "nbformat": 4,
  "nbformat_minor": 0,
  "metadata": {
    "colab": {
      "name": "Inheritance.ipynb",
      "provenance": []
    },
    "kernelspec": {
      "name": "python3",
      "display_name": "Python 3"
    }
  },
  "cells": [
    {
      "cell_type": "markdown",
      "metadata": {
        "id": "kwSc9DZ5HR1z",
        "colab_type": "text"
      },
      "source": [
        "Inheritance Simple"
      ]
    },
    {
      "cell_type": "code",
      "metadata": {
        "id": "DqvTAyWZIgFl",
        "colab_type": "code",
        "colab": {}
      },
      "source": [
        "class A:\n",
        "  def func1(self):\n",
        "    print(\"This is function 1\")\n",
        "    "
      ],
      "execution_count": null,
      "outputs": []
    },
    {
      "cell_type": "code",
      "metadata": {
        "id": "zcLyBR-yIufK",
        "colab_type": "code",
        "colab": {}
      },
      "source": [
        "class B(A):\n",
        "  def func2(self):\n",
        "    print(\"This is function 2\")"
      ],
      "execution_count": null,
      "outputs": []
    },
    {
      "cell_type": "code",
      "metadata": {
        "id": "zlVq3yKyI5-X",
        "colab_type": "code",
        "colab": {}
      },
      "source": [
        "ob = B()"
      ],
      "execution_count": null,
      "outputs": []
    },
    {
      "cell_type": "code",
      "metadata": {
        "id": "b_qGF2wZI-Jb",
        "colab_type": "code",
        "colab": {
          "base_uri": "https://localhost:8080/",
          "height": 35
        },
        "outputId": "c0968d5a-8fdb-46ed-ac2f-eb3e191db833"
      },
      "source": [
        "ob.func1()"
      ],
      "execution_count": null,
      "outputs": [
        {
          "output_type": "stream",
          "text": [
            "This is function 1\n"
          ],
          "name": "stdout"
        }
      ]
    },
    {
      "cell_type": "code",
      "metadata": {
        "id": "UEwdwMdcJByi",
        "colab_type": "code",
        "colab": {
          "base_uri": "https://localhost:8080/",
          "height": 35
        },
        "outputId": "53373573-c333-4d71-882f-6dc3b4e2b0b9"
      },
      "source": [
        "ob.func2()"
      ],
      "execution_count": null,
      "outputs": [
        {
          "output_type": "stream",
          "text": [
            "This is function 2\n"
          ],
          "name": "stdout"
        }
      ]
    },
    {
      "cell_type": "markdown",
      "metadata": {
        "id": "khJpzRFAHX6h",
        "colab_type": "text"
      },
      "source": [
        "Inheritance Multilevel"
      ]
    },
    {
      "cell_type": "code",
      "metadata": {
        "id": "Zyi0D6WEHdES",
        "colab_type": "code",
        "colab": {}
      },
      "source": [
        "class A:\n",
        "  def func1(self):\n",
        "    print(\"This is function 1\")"
      ],
      "execution_count": null,
      "outputs": []
    },
    {
      "cell_type": "code",
      "metadata": {
        "id": "GCY79ADMJYGq",
        "colab_type": "code",
        "colab": {}
      },
      "source": [
        "class B(A):\n",
        "  def func2(self):\n",
        "    print(\"This is function 2\")"
      ],
      "execution_count": null,
      "outputs": []
    },
    {
      "cell_type": "code",
      "metadata": {
        "id": "QA9jT6YDJiqr",
        "colab_type": "code",
        "colab": {}
      },
      "source": [
        "class C(B):\n",
        "  def func3(self):\n",
        "    print(\"This is function 3\")"
      ],
      "execution_count": null,
      "outputs": []
    },
    {
      "cell_type": "code",
      "metadata": {
        "id": "4_PM9J8-Jul7",
        "colab_type": "code",
        "colab": {}
      },
      "source": [
        "ob = C()"
      ],
      "execution_count": null,
      "outputs": []
    },
    {
      "cell_type": "code",
      "metadata": {
        "id": "KaG1N2FRJzQS",
        "colab_type": "code",
        "colab": {
          "base_uri": "https://localhost:8080/",
          "height": 35
        },
        "outputId": "a001b7e6-adff-48d3-b373-8e07b7792daf"
      },
      "source": [
        "ob.func1()"
      ],
      "execution_count": null,
      "outputs": [
        {
          "output_type": "stream",
          "text": [
            "This is function 1\n"
          ],
          "name": "stdout"
        }
      ]
    },
    {
      "cell_type": "code",
      "metadata": {
        "id": "np0f9FSxJ2uO",
        "colab_type": "code",
        "colab": {
          "base_uri": "https://localhost:8080/",
          "height": 35
        },
        "outputId": "c1e45892-b9d5-4c6f-cfc4-9078052e2809"
      },
      "source": [
        "ob.func2()"
      ],
      "execution_count": null,
      "outputs": [
        {
          "output_type": "stream",
          "text": [
            "This is function 2\n"
          ],
          "name": "stdout"
        }
      ]
    },
    {
      "cell_type": "code",
      "metadata": {
        "id": "RGUdaqvyJ58C",
        "colab_type": "code",
        "colab": {
          "base_uri": "https://localhost:8080/",
          "height": 35
        },
        "outputId": "33339f7b-275a-4cd8-982c-32b01ee801d4"
      },
      "source": [
        "ob.func3()"
      ],
      "execution_count": null,
      "outputs": [
        {
          "output_type": "stream",
          "text": [
            "This is function 3\n"
          ],
          "name": "stdout"
        }
      ]
    },
    {
      "cell_type": "markdown",
      "metadata": {
        "id": "0cu3gMn1Hea5",
        "colab_type": "text"
      },
      "source": [
        "Inheritance Hierarchical"
      ]
    },
    {
      "cell_type": "code",
      "metadata": {
        "id": "xyEc7eqeHlI7",
        "colab_type": "code",
        "colab": {}
      },
      "source": [
        "class A:\n",
        "  def func1(self):\n",
        "    print(\"This is function 1\")"
      ],
      "execution_count": null,
      "outputs": []
    },
    {
      "cell_type": "code",
      "metadata": {
        "id": "_ktaBSJBKbMK",
        "colab_type": "code",
        "colab": {}
      },
      "source": [
        "class B(A):\n",
        "  def func2(self):\n",
        "    print(\"This is function 2\")"
      ],
      "execution_count": null,
      "outputs": []
    },
    {
      "cell_type": "code",
      "metadata": {
        "id": "a0u6SZelKnjz",
        "colab_type": "code",
        "colab": {}
      },
      "source": [
        "class C(A):\n",
        "  def func3(self):\n",
        "    print(\"This is function 3\")"
      ],
      "execution_count": null,
      "outputs": []
    },
    {
      "cell_type": "code",
      "metadata": {
        "id": "PahFdZp9KyLr",
        "colab_type": "code",
        "colab": {}
      },
      "source": [
        "obj_b = B()"
      ],
      "execution_count": null,
      "outputs": []
    },
    {
      "cell_type": "code",
      "metadata": {
        "id": "kXOdZtWgK5p8",
        "colab_type": "code",
        "colab": {}
      },
      "source": [
        "obj_c = C()"
      ],
      "execution_count": null,
      "outputs": []
    },
    {
      "cell_type": "code",
      "metadata": {
        "id": "xlbvvz9WK9XP",
        "colab_type": "code",
        "colab": {
          "base_uri": "https://localhost:8080/",
          "height": 35
        },
        "outputId": "ae648e40-bf92-498b-a8c0-fe264b1b1a12"
      },
      "source": [
        "obj_b.func1()"
      ],
      "execution_count": null,
      "outputs": [
        {
          "output_type": "stream",
          "text": [
            "This is function 1\n"
          ],
          "name": "stdout"
        }
      ]
    },
    {
      "cell_type": "code",
      "metadata": {
        "id": "f-kScKRwLBRz",
        "colab_type": "code",
        "colab": {
          "base_uri": "https://localhost:8080/",
          "height": 35
        },
        "outputId": "f3bd06bb-f8c2-416e-ee87-72af8b5dbb62"
      },
      "source": [
        "obj_b.func2()"
      ],
      "execution_count": null,
      "outputs": [
        {
          "output_type": "stream",
          "text": [
            "This is function 2\n"
          ],
          "name": "stdout"
        }
      ]
    },
    {
      "cell_type": "code",
      "metadata": {
        "id": "HoJPAmQILFzl",
        "colab_type": "code",
        "colab": {
          "base_uri": "https://localhost:8080/",
          "height": 35
        },
        "outputId": "1a687caf-875a-450c-fc32-5c7dcd4c603f"
      },
      "source": [
        "obj_c.func1()"
      ],
      "execution_count": null,
      "outputs": [
        {
          "output_type": "stream",
          "text": [
            "This is function 1\n"
          ],
          "name": "stdout"
        }
      ]
    },
    {
      "cell_type": "code",
      "metadata": {
        "id": "wVh8zWNoLJoG",
        "colab_type": "code",
        "colab": {
          "base_uri": "https://localhost:8080/",
          "height": 35
        },
        "outputId": "d8f44e33-715b-4bf7-95dc-4fadc38f3fa3"
      },
      "source": [
        "obj_c.func3()"
      ],
      "execution_count": null,
      "outputs": [
        {
          "output_type": "stream",
          "text": [
            "This is function 3\n"
          ],
          "name": "stdout"
        }
      ]
    },
    {
      "cell_type": "markdown",
      "metadata": {
        "id": "5vhk3S_OHlri",
        "colab_type": "text"
      },
      "source": [
        "Inheritance Multiple"
      ]
    },
    {
      "cell_type": "code",
      "metadata": {
        "id": "S1We4TLIHp_Z",
        "colab_type": "code",
        "colab": {}
      },
      "source": [
        "class A:\n",
        "  def func1(self):\n",
        "    print(\"This is function 1\")"
      ],
      "execution_count": null,
      "outputs": []
    },
    {
      "cell_type": "code",
      "metadata": {
        "id": "f8xVzLXWLbJk",
        "colab_type": "code",
        "colab": {}
      },
      "source": [
        "class B:\n",
        "  def func2(self):\n",
        "    print(\"this is function 2\")"
      ],
      "execution_count": null,
      "outputs": []
    },
    {
      "cell_type": "code",
      "metadata": {
        "id": "x6eIT8yYLj09",
        "colab_type": "code",
        "colab": {}
      },
      "source": [
        "class C(A,B):\n",
        "  def func3(self):\n",
        "    print(\"This is function 3\")"
      ],
      "execution_count": null,
      "outputs": []
    },
    {
      "cell_type": "code",
      "metadata": {
        "id": "JoyNKe9GLxWU",
        "colab_type": "code",
        "colab": {}
      },
      "source": [
        "obj = C()"
      ],
      "execution_count": null,
      "outputs": []
    },
    {
      "cell_type": "code",
      "metadata": {
        "id": "HmNwF-_7L0yF",
        "colab_type": "code",
        "colab": {
          "base_uri": "https://localhost:8080/",
          "height": 35
        },
        "outputId": "1d779eb5-c14e-47a4-98e0-df270d9b4046"
      },
      "source": [
        "obj.func1()"
      ],
      "execution_count": null,
      "outputs": [
        {
          "output_type": "stream",
          "text": [
            "This is function 1\n"
          ],
          "name": "stdout"
        }
      ]
    },
    {
      "cell_type": "code",
      "metadata": {
        "id": "q4xdM4IfL5db",
        "colab_type": "code",
        "colab": {
          "base_uri": "https://localhost:8080/",
          "height": 35
        },
        "outputId": "a36af3dd-1bb9-40b9-c96c-bf672b2b0bbd"
      },
      "source": [
        "obj.func2()"
      ],
      "execution_count": null,
      "outputs": [
        {
          "output_type": "stream",
          "text": [
            "this is function 2\n"
          ],
          "name": "stdout"
        }
      ]
    },
    {
      "cell_type": "code",
      "metadata": {
        "id": "1XSPWRitL9GF",
        "colab_type": "code",
        "colab": {
          "base_uri": "https://localhost:8080/",
          "height": 35
        },
        "outputId": "a611e426-7272-474f-baf7-b55151bea470"
      },
      "source": [
        "obj.func3()"
      ],
      "execution_count": null,
      "outputs": [
        {
          "output_type": "stream",
          "text": [
            "This is function 3\n"
          ],
          "name": "stdout"
        }
      ]
    },
    {
      "cell_type": "markdown",
      "metadata": {
        "id": "TvIgFiHxHq9Z",
        "colab_type": "text"
      },
      "source": [
        "SUPER"
      ]
    },
    {
      "cell_type": "code",
      "metadata": {
        "id": "9hUaFXliMihe",
        "colab_type": "code",
        "colab": {}
      },
      "source": [
        "class Person:\n",
        "  def __init__(self, fname, lname):\n",
        "    self.__firstname = fname\n",
        "    self.__lastname = lname\n",
        "  \n",
        "  def printname(self):\n",
        "    return self.__firstname +\" \"+ self.__lastname"
      ],
      "execution_count": null,
      "outputs": []
    },
    {
      "cell_type": "code",
      "metadata": {
        "id": "1KcpbDBfN9Z8",
        "colab_type": "code",
        "colab": {}
      },
      "source": [
        "class Student(Person):\n",
        "  def __init__(self, fname, lname, year):\n",
        "    super().__init__(fname,lname)\n",
        "    self.__graduationyear = year\n",
        "  \n",
        "  def welcome(self):\n",
        "    print(\"Welcome \" + self.printname() + \" to the class of \", self.__graduationyear)"
      ],
      "execution_count": null,
      "outputs": []
    },
    {
      "cell_type": "code",
      "metadata": {
        "id": "Ukl5mHBBOvdY",
        "colab_type": "code",
        "colab": {}
      },
      "source": [
        "p = Person(\"Jhon\", \"Doe\")"
      ],
      "execution_count": null,
      "outputs": []
    },
    {
      "cell_type": "code",
      "metadata": {
        "id": "wk_ZCCMEO4xu",
        "colab_type": "code",
        "colab": {
          "base_uri": "https://localhost:8080/",
          "height": 35
        },
        "outputId": "d5b10785-dc4f-45a9-9a29-e090d920e877"
      },
      "source": [
        "print(p.printname())"
      ],
      "execution_count": null,
      "outputs": [
        {
          "output_type": "stream",
          "text": [
            "Jhon Doe\n"
          ],
          "name": "stdout"
        }
      ]
    },
    {
      "cell_type": "code",
      "metadata": {
        "id": "ojqfBc_eOVi6",
        "colab_type": "code",
        "colab": {}
      },
      "source": [
        "s = Student(\"Juan\", \"Rodriguez\", 2030)"
      ],
      "execution_count": null,
      "outputs": []
    },
    {
      "cell_type": "code",
      "metadata": {
        "id": "0wvffXyMPLal",
        "colab_type": "code",
        "colab": {
          "base_uri": "https://localhost:8080/",
          "height": 35
        },
        "outputId": "07b0401e-07f7-4026-cedd-b37a6475f7c6"
      },
      "source": [
        "s.welcome()"
      ],
      "execution_count": null,
      "outputs": [
        {
          "output_type": "stream",
          "text": [
            "Welcome Juan Rodriguez to the class of  2030\n"
          ],
          "name": "stdout"
        }
      ]
    },
    {
      "cell_type": "markdown",
      "metadata": {
        "id": "kieZ4DLRHwqC",
        "colab_type": "text"
      },
      "source": [
        "Class Abstract"
      ]
    },
    {
      "cell_type": "code",
      "metadata": {
        "id": "WeJLDa1QH0Vh",
        "colab_type": "code",
        "colab": {}
      },
      "source": [
        "from abc import ABC, abstractmethod"
      ],
      "execution_count": null,
      "outputs": []
    },
    {
      "cell_type": "code",
      "metadata": {
        "id": "Qp_2nxmsPpwG",
        "colab_type": "code",
        "colab": {}
      },
      "source": [
        "class Shape(ABC):\n",
        "  @abstractmethod\n",
        "  def area(self):\n",
        "    pass\n",
        "  \n",
        "  @abstractmethod\n",
        "  def perimeter(self):\n",
        "    pass"
      ],
      "execution_count": null,
      "outputs": []
    },
    {
      "cell_type": "code",
      "metadata": {
        "id": "X5Vit38DP8mi",
        "colab_type": "code",
        "colab": {}
      },
      "source": [
        "class Rectangle(Shape):\n",
        "  def __init__(self, lenght, width):\n",
        "    self.__lenght = lenght\n",
        "    self.__width = width\n",
        "  \n",
        "  def area(self):\n",
        "    return self.__lenght*self.__width\n",
        "\n",
        "  def perimeter(self):\n",
        "    return 2*(self.__lenght+self.__width)\n",
        "    "
      ],
      "execution_count": null,
      "outputs": []
    },
    {
      "cell_type": "code",
      "metadata": {
        "id": "WZjD6qhlQlf7",
        "colab_type": "code",
        "colab": {}
      },
      "source": [
        "R1 = Rectangle(2,4)"
      ],
      "execution_count": null,
      "outputs": []
    },
    {
      "cell_type": "code",
      "metadata": {
        "id": "NpjgshSmQsKW",
        "colab_type": "code",
        "colab": {
          "base_uri": "https://localhost:8080/",
          "height": 35
        },
        "outputId": "2d71b819-7302-43c5-80a1-b26e96e864a5"
      },
      "source": [
        "print(R1.area())"
      ],
      "execution_count": null,
      "outputs": [
        {
          "output_type": "stream",
          "text": [
            "8\n"
          ],
          "name": "stdout"
        }
      ]
    },
    {
      "cell_type": "code",
      "metadata": {
        "id": "GoI5Pnm4QxWW",
        "colab_type": "code",
        "colab": {
          "base_uri": "https://localhost:8080/",
          "height": 35
        },
        "outputId": "881651fb-0c15-4683-db94-ed3b91a8648e"
      },
      "source": [
        "print(R1.perimeter())"
      ],
      "execution_count": null,
      "outputs": [
        {
          "output_type": "stream",
          "text": [
            "12\n"
          ],
          "name": "stdout"
        }
      ]
    }
  ]
}