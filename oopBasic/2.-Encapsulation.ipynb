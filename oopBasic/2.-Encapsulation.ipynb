{
  "nbformat": 4,
  "nbformat_minor": 0,
  "metadata": {
    "colab": {
      "name": "Encapsulation.ipynb",
      "provenance": []
    },
    "kernelspec": {
      "name": "python3",
      "display_name": "Python 3"
    }
  },
  "cells": [
    {
      "cell_type": "code",
      "metadata": {
        "id": "ycEc6FhZc7Ov",
        "colab_type": "code",
        "colab": {}
      },
      "source": [
        "class WashingMachine:\n",
        "  def __init__(self,brandName, modelName, serialNumber, capacity):\n",
        "    self.__brandName = brandName\n",
        "    self.__modelName = modelName\n",
        "    self.__serialNumber = serialNumber\n",
        "    self.__capacity = capacity\n",
        "\n",
        "  @property\n",
        "  def capacity(self):  \n",
        "    return self.__capacity\n",
        "  \n",
        "  @capacity.setter\n",
        "  def capacity(self, value):\n",
        "    self.__capacity = value\n",
        "  \n",
        "  def displayData(self):\n",
        "    print(\"\\nBrandName : \",self.__brandName)\n",
        "    print(\"ModelName : \", self.__modelName)\n",
        "    print(\"SerialNumber : \", self.__serialNumber)\n",
        "    print(\"Capacity : \", self.__capacity)"
      ],
      "execution_count": null,
      "outputs": []
    },
    {
      "cell_type": "code",
      "metadata": {
        "id": "pLBqxiW7dLQk",
        "colab_type": "code",
        "colab": {}
      },
      "source": [
        "lavadora1 = WashingMachine(\"LG\",\"X\",\"123\",5)"
      ],
      "execution_count": null,
      "outputs": []
    },
    {
      "cell_type": "code",
      "metadata": {
        "id": "onBChTRBdPyn",
        "colab_type": "code",
        "colab": {
          "base_uri": "https://localhost:8080/",
          "height": 105
        },
        "outputId": "69b80bd2-24bc-4b5c-ffec-cdfed484d50b"
      },
      "source": [
        "lavadora1.displayData()"
      ],
      "execution_count": null,
      "outputs": [
        {
          "output_type": "stream",
          "text": [
            "\n",
            "BrandName :  LG\n",
            "ModelName :  X\n",
            "SerialNumber :  123\n",
            "Capacity :  5\n"
          ],
          "name": "stdout"
        }
      ]
    },
    {
      "cell_type": "code",
      "metadata": {
        "id": "8PeFjUSkitIl",
        "colab_type": "code",
        "colab": {
          "base_uri": "https://localhost:8080/",
          "height": 35
        },
        "outputId": "d68c43ac-54b8-473d-bfb6-af0a256e7561"
      },
      "source": [
        "lavadora1.capacity"
      ],
      "execution_count": null,
      "outputs": [
        {
          "output_type": "execute_result",
          "data": {
            "text/plain": [
              "5"
            ]
          },
          "metadata": {
            "tags": []
          },
          "execution_count": 14
        }
      ]
    },
    {
      "cell_type": "code",
      "metadata": {
        "id": "SD7RkBh-jMec",
        "colab_type": "code",
        "colab": {}
      },
      "source": [
        "lavadora1.capacity = 30"
      ],
      "execution_count": null,
      "outputs": []
    },
    {
      "cell_type": "code",
      "metadata": {
        "id": "hOLDJomEjRHM",
        "colab_type": "code",
        "colab": {
          "base_uri": "https://localhost:8080/",
          "height": 35
        },
        "outputId": "99507401-5bde-4002-a0b0-34e03da2dc90"
      },
      "source": [
        "lavadora1.capacity"
      ],
      "execution_count": null,
      "outputs": [
        {
          "output_type": "execute_result",
          "data": {
            "text/plain": [
              "30"
            ]
          },
          "metadata": {
            "tags": []
          },
          "execution_count": 16
        }
      ]
    },
    {
      "cell_type": "code",
      "metadata": {
        "id": "uIlN9KemjVfs",
        "colab_type": "code",
        "colab": {
          "base_uri": "https://localhost:8080/",
          "height": 105
        },
        "outputId": "e6132557-5c41-497f-c7b0-9cebd56fd28d"
      },
      "source": [
        "lavadora1.displayData()"
      ],
      "execution_count": null,
      "outputs": [
        {
          "output_type": "stream",
          "text": [
            "\n",
            "BrandName :  LG\n",
            "ModelName :  X\n",
            "SerialNumber :  123\n",
            "Capacity :  30\n"
          ],
          "name": "stdout"
        }
      ]
    }
  ]
}